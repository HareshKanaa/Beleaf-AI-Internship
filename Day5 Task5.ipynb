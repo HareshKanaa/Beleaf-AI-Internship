{
 "cells": [
  {
   "cell_type": "code",
   "execution_count": 1,
   "id": "b8457493-57a2-44b8-9652-abc953293466",
   "metadata": {},
   "outputs": [
    {
     "name": "stdout",
     "output_type": "stream",
     "text": [
      "Sample of the Real-Time Dataset with Data Quality Issues:\n",
      "        Date      Numeric_Column Category_Column\n",
      "0 2021-02-26   135.2810469193533               A\n",
      "1 2022-01-30  108.00314416734446               C\n",
      "2 2022-10-13                 nan               D\n",
      "3 2022-09-08  144.81786398402915               D\n",
      "4 2020-06-09  137.35115980299935               C\n"
     ]
    }
   ],
   "source": [
    "import pandas as pd\n",
    "import numpy as np\n",
    "from datetime import datetime, timedelta\n",
    "import random\n",
    "\n",
    "# Generate synthetic dataset with data quality issues\n",
    "np.random.seed(0)  # for reproducibility\n",
    "\n",
    "# Sample sizes\n",
    "num_records = 1000\n",
    "\n",
    "# Generate random dates for Date column\n",
    "start_date = datetime(2020, 1, 1)\n",
    "end_date = datetime(2023, 1, 1)\n",
    "date_range = [start_date + timedelta(days=random.randint(0, (end_date - start_date).days)) for _ in range(num_records)]\n",
    "\n",
    "# Generate random numerical and categorical data\n",
    "numerical_data = np.random.normal(loc=100, scale=20, size=num_records)\n",
    "categorical_data = np.random.choice(['A', 'B', 'C', 'D'], size=num_records)\n",
    "\n",
    "# Introduce missing values, outliers, and inconsistent data types\n",
    "missing_indices = random.sample(range(num_records), k=int(num_records * 0.1))  # 10% missing values\n",
    "numerical_data[missing_indices] = np.nan\n",
    "\n",
    "outlier_indices = random.sample(range(num_records), k=int(num_records * 0.05))  # 5% outliers\n",
    "numerical_data[outlier_indices] = numerical_data[outlier_indices] * 10\n",
    "\n",
    "# Create DataFrame\n",
    "df = pd.DataFrame({\n",
    "    'Date': date_range,\n",
    "    'Numeric_Column': numerical_data,\n",
    "    'Category_Column': categorical_data\n",
    "})\n",
    "\n",
    "# Introduce inconsistent data types\n",
    "df['Numeric_Column'] = df['Numeric_Column'].astype(str)  # Example of inconsistent data type (should be numeric)\n",
    "\n",
    "# Save the synthetic dataset to CSV\n",
    "df.to_csv('realtime_dataset.csv', index=False)\n",
    "\n",
    "# Display the first few rows of the dataset\n",
    "print(\"Sample of the Real-Time Dataset with Data Quality Issues:\")\n",
    "print(df.head())"
   ]
  },
  {
   "cell_type": "code",
   "execution_count": null,
   "id": "a1237e23-139a-49c6-9d14-e0b8646423a7",
   "metadata": {},
   "outputs": [],
   "source": []
  }
 ],
 "metadata": {
  "kernelspec": {
   "display_name": "Python 3 (ipykernel)",
   "language": "python",
   "name": "python3"
  },
  "language_info": {
   "codemirror_mode": {
    "name": "ipython",
    "version": 3
   },
   "file_extension": ".py",
   "mimetype": "text/x-python",
   "name": "python",
   "nbconvert_exporter": "python",
   "pygments_lexer": "ipython3",
   "version": "3.12.4"
  }
 },
 "nbformat": 4,
 "nbformat_minor": 5
}
