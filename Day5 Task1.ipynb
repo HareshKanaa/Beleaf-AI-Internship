{
 "cells": [
  {
   "cell_type": "markdown",
   "id": "602ac61c-84ea-4f75-b0ed-4635c1e57cdd",
   "metadata": {},
   "source": [
    "# Task 1: Detect and Handle Missing Values"
   ]
  },
  {
   "cell_type": "markdown",
   "id": "da6a0a09-32b8-4132-91ae-2a672ccd6129",
   "metadata": {},
   "source": [
    "## Step 1: Loading the dataset"
   ]
  },
  {
   "cell_type": "code",
   "execution_count": 76,
   "id": "9a080076-9ece-4d46-a03e-f7d7dec8beff",
   "metadata": {},
   "outputs": [
    {
     "name": "stdout",
     "output_type": "stream",
     "text": [
      "   survived  pclass     sex   age  sibsp  parch     fare embarked  class  \\\n",
      "0         0       3    male  22.0      1      0   7.2500        S  Third   \n",
      "1         1       1  female  38.0      1      0  71.2833        C  First   \n",
      "2         1       3  female  26.0      0      0   7.9250        S  Third   \n",
      "3         1       1  female  35.0      1      0  53.1000        S  First   \n",
      "4         0       3    male  35.0      0      0   8.0500        S  Third   \n",
      "\n",
      "     who  adult_male deck  embark_town alive  alone  \n",
      "0    man        True  NaN  Southampton    no  False  \n",
      "1  woman       False    C    Cherbourg   yes  False  \n",
      "2  woman       False  NaN  Southampton   yes   True  \n",
      "3  woman       False    C  Southampton   yes  False  \n",
      "4    man        True  NaN  Southampton    no   True  \n"
     ]
    }
   ],
   "source": [
    "import seaborn as sns\n",
    "\n",
    "df = sns.load_dataset(\"titanic\")\n",
    "\n",
    "print(df.head())"
   ]
  },
  {
   "cell_type": "markdown",
   "id": "8f1a4c3c-8f13-4194-b27d-4226bcddb5fa",
   "metadata": {},
   "source": [
    "## Step 2: Identify Columns with Missing Values"
   ]
  },
  {
   "cell_type": "code",
   "execution_count": 64,
   "id": "29851816-df42-482d-98e7-65d14dbbb985",
   "metadata": {},
   "outputs": [
    {
     "name": "stdout",
     "output_type": "stream",
     "text": [
      "deck           77.216611\n",
      "age            19.865320\n",
      "embarked        0.224467\n",
      "embark_town     0.224467\n",
      "dtype: float64\n"
     ]
    }
   ],
   "source": [
    "missing_values = df.isnull().mean() * 100\n",
    "\n",
    "missing_values = missing_values.sort_values(ascending=False)\n",
    "\n",
    "print(missing_values[missing_values > 0])"
   ]
  },
  {
   "cell_type": "markdown",
   "id": "3e7e88d9-0203-43f8-b205-f0891c5186e1",
   "metadata": {},
   "source": [
    "## Step 3: Handle Missing Values"
   ]
  },
  {
   "cell_type": "code",
   "execution_count": 66,
   "id": "c14a3818-9b07-45ea-9adb-b2f566d7dc5c",
   "metadata": {},
   "outputs": [],
   "source": [
    "df_fill_mean = df.copy()\n",
    "numeric_cols = df_fill_mean.select_dtypes(include='number').columns\n",
    "df_fill_mean[numeric_cols] = df_fill_mean[numeric_cols].fillna(df_fill_mean[numeric_cols].mean())"
   ]
  },
  {
   "cell_type": "code",
   "execution_count": 68,
   "id": "66fb57d0-2135-4966-b4f4-f8f3c4e611cc",
   "metadata": {},
   "outputs": [],
   "source": [
    "df_fill_median = df.copy()\n",
    "df_fill_median[numeric_cols] = df_fill_median[numeric_cols].fillna(df_fill_median[numeric_cols].median())"
   ]
  },
  {
   "cell_type": "code",
   "execution_count": 70,
   "id": "69c97490-1258-4b50-b847-174846e1f858",
   "metadata": {},
   "outputs": [],
   "source": [
    "df_fill_mode = df.copy()\n",
    "for column in df_fill_mode.columns:\n",
    "    df_fill_mode[column] = df_fill_mode[column].fillna(df_fill_mode[column].mode()[0])"
   ]
  },
  {
   "cell_type": "code",
   "execution_count": 72,
   "id": "e140bd42-2039-4370-bb5d-f091d0bec049",
   "metadata": {},
   "outputs": [],
   "source": [
    "df_interpolate = df.copy()\n",
    "df_interpolate[numeric_cols] = df_interpolate[numeric_cols].interpolate()"
   ]
  },
  {
   "cell_type": "markdown",
   "id": "33166ac5-c43e-44c2-becc-cf02bb06d74f",
   "metadata": {},
   "source": [
    "## Step 4: Compare the impact of each method on the dataset"
   ]
  },
  {
   "cell_type": "code",
   "execution_count": 58,
   "id": "799b8920-4b8c-45b5-9816-e8f53eed0526",
   "metadata": {},
   "outputs": [],
   "source": [
    "summary_stats = {\n",
    "    'Original': df.describe(),\n",
    "    'Drop NA': df.dropna().describe(),\n",
    "    'Drop Columns': df.dropna(axis=1).describe(),\n",
    "    'Fill Mean': df_fill_mean.describe(),\n",
    "    'Fill Median': df_fill_median.describe(),\n",
    "    'Fill Mode': df_fill_mode.describe(),\n",
    "    'Interpolate': df_interpolate.describe()\n",
    "}\n",
    "\n",
    "dataset_shapes = {\n",
    "    'Original': df.shape,\n",
    "    'Drop NA': df.dropna().shape,\n",
    "    'Drop Columns': df.dropna(axis=1).shape,\n",
    "    'Fill Mean': df_fill_mean.shape,\n",
    "    'Fill Median': df_fill_median.shape,\n",
    "    'Fill Mode': df_fill_mode.shape,\n",
    "    'Interpolate': df_interpolate.shape\n",
    "}"
   ]
  },
  {
   "cell_type": "markdown",
   "id": "0135dfb9-ae83-4f69-9370-b382f662a14a",
   "metadata": {},
   "source": [
    "## Step 5: Display the summary statistics and shapes"
   ]
  },
  {
   "cell_type": "code",
   "execution_count": 60,
   "id": "84055630-1079-458f-896a-e1199c4f49f6",
   "metadata": {},
   "outputs": [
    {
     "name": "stdout",
     "output_type": "stream",
     "text": [
      "\n",
      "Summary Statistics for Original Method:\n",
      "         survived      pclass         age       sibsp       parch        fare\n",
      "count  891.000000  891.000000  714.000000  891.000000  891.000000  891.000000\n",
      "mean     0.383838    2.308642   29.699118    0.523008    0.381594   32.204208\n",
      "std      0.486592    0.836071   14.526497    1.102743    0.806057   49.693429\n",
      "min      0.000000    1.000000    0.420000    0.000000    0.000000    0.000000\n",
      "25%      0.000000    2.000000   20.125000    0.000000    0.000000    7.910400\n",
      "50%      0.000000    3.000000   28.000000    0.000000    0.000000   14.454200\n",
      "75%      1.000000    3.000000   38.000000    1.000000    0.000000   31.000000\n",
      "max      1.000000    3.000000   80.000000    8.000000    6.000000  512.329200\n",
      "\n",
      "Summary Statistics for Drop NA Method:\n",
      "         survived      pclass         age       sibsp       parch        fare\n",
      "count  182.000000  182.000000  182.000000  182.000000  182.000000  182.000000\n",
      "mean     0.675824    1.192308   35.623187    0.467033    0.478022   78.919735\n",
      "std      0.469357    0.516411   15.671615    0.645007    0.755869   76.490774\n",
      "min      0.000000    1.000000    0.920000    0.000000    0.000000    0.000000\n",
      "25%      0.000000    1.000000   24.000000    0.000000    0.000000   29.700000\n",
      "50%      1.000000    1.000000   36.000000    0.000000    0.000000   57.000000\n",
      "75%      1.000000    1.000000   47.750000    1.000000    1.000000   90.000000\n",
      "max      1.000000    3.000000   80.000000    3.000000    4.000000  512.329200\n",
      "\n",
      "Summary Statistics for Drop Columns Method:\n",
      "         survived      pclass       sibsp       parch        fare\n",
      "count  891.000000  891.000000  891.000000  891.000000  891.000000\n",
      "mean     0.383838    2.308642    0.523008    0.381594   32.204208\n",
      "std      0.486592    0.836071    1.102743    0.806057   49.693429\n",
      "min      0.000000    1.000000    0.000000    0.000000    0.000000\n",
      "25%      0.000000    2.000000    0.000000    0.000000    7.910400\n",
      "50%      0.000000    3.000000    0.000000    0.000000   14.454200\n",
      "75%      1.000000    3.000000    1.000000    0.000000   31.000000\n",
      "max      1.000000    3.000000    8.000000    6.000000  512.329200\n",
      "\n",
      "Summary Statistics for Fill Mean Method:\n",
      "         survived      pclass         age       sibsp       parch        fare\n",
      "count  891.000000  891.000000  891.000000  891.000000  891.000000  891.000000\n",
      "mean     0.383838    2.308642   29.699118    0.523008    0.381594   32.204208\n",
      "std      0.486592    0.836071   13.002015    1.102743    0.806057   49.693429\n",
      "min      0.000000    1.000000    0.420000    0.000000    0.000000    0.000000\n",
      "25%      0.000000    2.000000   22.000000    0.000000    0.000000    7.910400\n",
      "50%      0.000000    3.000000   29.699118    0.000000    0.000000   14.454200\n",
      "75%      1.000000    3.000000   35.000000    1.000000    0.000000   31.000000\n",
      "max      1.000000    3.000000   80.000000    8.000000    6.000000  512.329200\n",
      "\n",
      "Summary Statistics for Fill Median Method:\n",
      "         survived      pclass         age       sibsp       parch        fare\n",
      "count  891.000000  891.000000  891.000000  891.000000  891.000000  891.000000\n",
      "mean     0.383838    2.308642   29.361582    0.523008    0.381594   32.204208\n",
      "std      0.486592    0.836071   13.019697    1.102743    0.806057   49.693429\n",
      "min      0.000000    1.000000    0.420000    0.000000    0.000000    0.000000\n",
      "25%      0.000000    2.000000   22.000000    0.000000    0.000000    7.910400\n",
      "50%      0.000000    3.000000   28.000000    0.000000    0.000000   14.454200\n",
      "75%      1.000000    3.000000   35.000000    1.000000    0.000000   31.000000\n",
      "max      1.000000    3.000000   80.000000    8.000000    6.000000  512.329200\n",
      "\n",
      "Summary Statistics for Fill Mode Method:\n",
      "         survived      pclass         age       sibsp       parch        fare\n",
      "count  891.000000  891.000000  891.000000  891.000000  891.000000  891.000000\n",
      "mean     0.383838    2.308642   28.566970    0.523008    0.381594   32.204208\n",
      "std      0.486592    0.836071   13.199572    1.102743    0.806057   49.693429\n",
      "min      0.000000    1.000000    0.420000    0.000000    0.000000    0.000000\n",
      "25%      0.000000    2.000000   22.000000    0.000000    0.000000    7.910400\n",
      "50%      0.000000    3.000000   24.000000    0.000000    0.000000   14.454200\n",
      "75%      1.000000    3.000000   35.000000    1.000000    0.000000   31.000000\n",
      "max      1.000000    3.000000   80.000000    8.000000    6.000000  512.329200\n",
      "\n",
      "Summary Statistics for Interpolate Method:\n",
      "         survived      pclass         age       sibsp       parch        fare\n",
      "count  891.000000  891.000000  891.000000  891.000000  891.000000  891.000000\n",
      "mean     0.383838    2.308642   29.726061    0.523008    0.381594   32.204208\n",
      "std      0.486592    0.836071   13.902353    1.102743    0.806057   49.693429\n",
      "min      0.000000    1.000000    0.420000    0.000000    0.000000    0.000000\n",
      "25%      0.000000    2.000000   21.000000    0.000000    0.000000    7.910400\n",
      "50%      0.000000    3.000000   28.500000    0.000000    0.000000   14.454200\n",
      "75%      1.000000    3.000000   38.000000    1.000000    0.000000   31.000000\n",
      "max      1.000000    3.000000   80.000000    8.000000    6.000000  512.329200\n",
      "\n",
      "Dataset Shapes:\n",
      "Original: (891, 15)\n",
      "Drop NA: (182, 15)\n",
      "Drop Columns: (891, 11)\n",
      "Fill Mean: (891, 15)\n",
      "Fill Median: (891, 15)\n",
      "Fill Mode: (891, 15)\n",
      "Interpolate: (891, 15)\n"
     ]
    }
   ],
   "source": [
    "for method, stats in summary_stats.items():\n",
    "    print(f\"\\nSummary Statistics for {method} Method:\")\n",
    "    print(stats)\n",
    "\n",
    "print(\"\\nDataset Shapes:\")\n",
    "for method, shape in dataset_shapes.items():\n",
    "    print(f\"{method}: {shape}\")"
   ]
  }
 ],
 "metadata": {
  "kernelspec": {
   "display_name": "Python 3 (ipykernel)",
   "language": "python",
   "name": "python3"
  },
  "language_info": {
   "codemirror_mode": {
    "name": "ipython",
    "version": 3
   },
   "file_extension": ".py",
   "mimetype": "text/x-python",
   "name": "python",
   "nbconvert_exporter": "python",
   "pygments_lexer": "ipython3",
   "version": "3.12.4"
  }
 },
 "nbformat": 4,
 "nbformat_minor": 5
}
