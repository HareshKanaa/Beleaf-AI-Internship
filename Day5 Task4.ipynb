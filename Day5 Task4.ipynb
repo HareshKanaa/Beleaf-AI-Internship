{
 "cells": [
  {
   "cell_type": "markdown",
   "id": "23025fd9-6dde-480f-8468-ac1a9c3dd5bc",
   "metadata": {},
   "source": [
    "# Task 4: Combine Multiple Preprocessing Techniques"
   ]
  },
  {
   "cell_type": "markdown",
   "id": "4e99a4d5-95c8-4f87-aeac-f644985df76c",
   "metadata": {},
   "source": [
    "## Step 1: Import the libraries"
   ]
  },
  {
   "cell_type": "code",
   "execution_count": 30,
   "id": "4fec0ec9-3811-4912-a963-b01d693697bc",
   "metadata": {},
   "outputs": [],
   "source": [
    "import pandas as pd\n",
    "import numpy as np\n",
    "from sklearn.datasets import load_iris\n",
    "from sklearn.preprocessing import MinMaxScaler\n",
    "from scipy.stats.mstats import winsorize"
   ]
  },
  {
   "cell_type": "markdown",
   "id": "df142335-79c0-47f9-a1b0-f89e4cf152b6",
   "metadata": {},
   "source": [
    "## Step 2: Load the Iris dataset"
   ]
  },
  {
   "cell_type": "code",
   "execution_count": 33,
   "id": "360dc6ac-4285-4c40-94c9-1263797ec2ce",
   "metadata": {},
   "outputs": [],
   "source": [
    "iris = load_iris()\n",
    "df = pd.DataFrame(data=iris.data, columns=iris.feature_names)\n",
    "df['target'] = iris.target"
   ]
  },
  {
   "cell_type": "markdown",
   "id": "8fc06823-98fc-45d3-9c50-0d7e79b3c748",
   "metadata": {},
   "source": [
    "## Step 3: Handle Missing Values (simulating missing values)"
   ]
  },
  {
   "cell_type": "code",
   "execution_count": 36,
   "id": "5a8249ca-f2b7-4671-89df-986bb67cfa11",
   "metadata": {},
   "outputs": [
    {
     "name": "stderr",
     "output_type": "stream",
     "text": [
      "C:\\Users\\User\\AppData\\Local\\Temp\\ipykernel_5036\\2943916987.py:8: FutureWarning: A value is trying to be set on a copy of a DataFrame or Series through chained assignment using an inplace method.\n",
      "The behavior will change in pandas 3.0. This inplace method will never work because the intermediate object on which we are setting values always behaves as a copy.\n",
      "\n",
      "For example, when doing 'df[col].method(value, inplace=True)', try using 'df.method({col: value}, inplace=True)' or df[col] = df[col].method(value) instead, to perform the operation inplace on the original object.\n",
      "\n",
      "\n",
      "  df[col].fillna(df[col].mean(), inplace=True)\n"
     ]
    }
   ],
   "source": [
    "# Simulate some missing values for demonstration\n",
    "df.loc[::20, 'sepal length (cm)'] = np.nan\n",
    "df.loc[::15, 'petal width (cm)'] = np.nan\n",
    "\n",
    "# Fill missing values for numerical columns with mean\n",
    "numeric_columns = ['sepal length (cm)', 'sepal width (cm)', 'petal length (cm)', 'petal width (cm)']\n",
    "for col in numeric_columns:\n",
    "    df[col].fillna(df[col].mean(), inplace=True)"
   ]
  },
  {
   "cell_type": "markdown",
   "id": "ffaafc56-fef1-4e0a-941a-012068d98474",
   "metadata": {},
   "source": [
    "## Step 4: Detect and Handle Outliers (simulating outliers)"
   ]
  },
  {
   "cell_type": "code",
   "execution_count": 39,
   "id": "31104900-c0d5-482e-bf70-e2cee8768e69",
   "metadata": {},
   "outputs": [],
   "source": [
    "# Simulate outliers for demonstration\n",
    "df.loc[df['sepal length (cm)'] > 7.5, 'sepal length (cm)'] *= 1.5  # Creating outliers\n",
    "\n",
    "# Apply winsorization to cap extreme values in 'sepal length (cm)'\n",
    "df['sepal length (cm)'] = winsorize(df['sepal length (cm)'], limits=[0.05, 0.05])"
   ]
  },
  {
   "cell_type": "markdown",
   "id": "b85b634d-1452-46ce-b09e-0f8830925bf2",
   "metadata": {},
   "source": [
    "## Step 5: Normalize/Transform the Data"
   ]
  },
  {
   "cell_type": "code",
   "execution_count": 42,
   "id": "5dbb3e9c-d52b-440a-8d58-b7073495f7a2",
   "metadata": {},
   "outputs": [],
   "source": [
    "# Min-Max scaling of numerical columns\n",
    "scaler = MinMaxScaler()\n",
    "df[numeric_columns] = scaler.fit_transform(df[numeric_columns])\n",
    "\n",
    "# Log transformation of 'petal length (cm)' to handle skewness\n",
    "df['log_petal_length'] = np.log(df['petal length (cm)'] + 1)  # Adding 1 to handle zeros"
   ]
  },
  {
   "cell_type": "markdown",
   "id": "fadc91a3-c356-4640-a85b-f74336ebad31",
   "metadata": {},
   "source": [
    "## Step 6: Displaying Results"
   ]
  },
  {
   "cell_type": "code",
   "execution_count": 45,
   "id": "21713f5a-555b-4810-bacb-44a68c0487d6",
   "metadata": {},
   "outputs": [
    {
     "name": "stdout",
     "output_type": "stream",
     "text": [
      "   sepal length (cm)  sepal width (cm)  petal length (cm)  petal width (cm)  \\\n",
      "0           0.462702          0.625000           0.067797          0.459821   \n",
      "1           0.111111          0.416667           0.067797          0.041667   \n",
      "2           0.037037          0.500000           0.050847          0.041667   \n",
      "3           0.000000          0.458333           0.084746          0.041667   \n",
      "4           0.148148          0.666667           0.067797          0.041667   \n",
      "\n",
      "   target  log_petal_length  \n",
      "0       0          0.065597  \n",
      "1       0          0.065597  \n",
      "2       0          0.049597  \n",
      "3       0          0.081346  \n",
      "4       0          0.065597  \n"
     ]
    }
   ],
   "source": [
    "# Optionally, display or save the cleaned dataset\n",
    "print(df.head())\n",
    "\n",
    "# Save cleaned dataset to CSV\n",
    "df.to_csv('cleaned_iris_dataset.csv', index=False)"
   ]
  },
  {
   "cell_type": "markdown",
   "id": "627be22d-bf66-4019-9078-45ebee080362",
   "metadata": {},
   "source": [
    "## Step 7: Documentation"
   ]
  },
  {
   "cell_type": "raw",
   "id": "0b4f0e88-cdc1-4850-bf1b-ec0dc5ec1a44",
   "metadata": {},
   "source": [
    "Step 1: Import the libraries\n",
    "    - Pandas \n",
    "    - NumPy \n",
    "    - sklearn.datasets - load_iris\n",
    "    - sklearn.preprocessing - MinMaxScaler\n",
    "    - scipy.stats.mstats - winsorize\n",
    "\n",
    "Step 2: Load the iris dataset\n",
    "\n",
    "Step 3: Handling Missing Values\n",
    "    - Simulated missing values and imputed with mean for numerical columns.\n",
    "\n",
    "Step 4: Handling Outliers\n",
    "    - Simulated outliers in 'sepal length (cm)' and applied winsorization to cap extreme values.\n",
    "\n",
    "Step 5: Normalization/Transformation\n",
    "    - Applied Min-Max scaling to numerical columns ('sepal length (cm)', 'sepal width (cm)', 'petal length (cm)', 'petal width (cm)').\n",
    "    - Applied logarithmic transformation to 'petal length (cm)' to handle skewness.\n",
    "\n",
    "Step 6: Output or further analysis"
   ]
  }
 ],
 "metadata": {
  "kernelspec": {
   "display_name": "Python 3 (ipykernel)",
   "language": "python",
   "name": "python3"
  },
  "language_info": {
   "codemirror_mode": {
    "name": "ipython",
    "version": 3
   },
   "file_extension": ".py",
   "mimetype": "text/x-python",
   "name": "python",
   "nbconvert_exporter": "python",
   "pygments_lexer": "ipython3",
   "version": "3.12.4"
  }
 },
 "nbformat": 4,
 "nbformat_minor": 5
}
